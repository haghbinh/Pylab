{
 "cells": [
  {
   "cell_type": "markdown",
   "id": "c0ce1711",
   "metadata": {},
   "source": [
    "<div style=\"direction:rtl;line-height:300%;\">\n",
    "    <font face=\"Zar_Bd.ttf\" size=5>\n",
    "        <div align=center>\n",
    "            <font face=\"IranNastaliq\" size=10>\n",
    "                <p></p>\n",
    "                <p></p>\n",
    "به نام خدا\n",
    "                <p></p>\n",
    "            </font>\n",
    "               <font color=#FF7500 face=\"IranNastaliq\" size=30>   <h3>درس اول: نصب و معرفی محیط</h3>  </font>\n",
    "        </div>\n",
    "        <hr />\n",
    "        <style type=\"text/css\" scoped>\n",
    "        p{\n",
    "        border: 1px solid #a2a9b1;background-color: #f8f9fa;display: inline-block;\n",
    "        };\n",
    "        </style>\n",
    "    </font>\n",
    "</div>"
   ]
  },
  {
   "cell_type": "markdown",
   "id": "e1c9c827-7cee-40fa-bf98-1a2e9125cfa0",
   "metadata": {},
   "source": [
    "<div dir=\"rtl\" style=\"text-align: right;\">\n",
    "    \n",
    "<p dir=\"rtl\" style=\"text-align: right;\">\n",
    "برای برنامه نویسی پایتون بهتر است سه مرحله زیر را انجام دهید:\n",
    "</p>\n",
    "<ol>\n",
    "  <li>نصب برنامه پایتون</li>\n",
    "  <li>نصب Jupyter Notebook</li>\n",
    "  <li>نصب یک IDE </li>\n",
    "</ol>"
   ]
  },
  {
   "cell_type": "markdown",
   "id": "35d90c5b-58d6-46a8-a52b-89443fecf6c4",
   "metadata": {},
   "source": [
    "<div style=\"direction: rtl; text-align: right;\">\n",
    "  <style>\n",
    "    p {\n",
    "      direction: rtl !important;\n",
    "      text-align: right !important;\n",
    "    }\n",
    "  </style>"
   ]
  },
  {
   "cell_type": "markdown",
   "id": "204d9280",
   "metadata": {},
   "source": [
    "\n",
    "\n",
    "<div id=\"# sec_install\" dir=\"rtl\" style=\"text-align: right;\">\n",
    "<h3>۱. نصب پایتون</h3>\n",
    "    \n",
    "<p dir=\"rtl\" style=\"text-align: right;\">\n",
    "برای نصب Python به <a href=\"https://www.python.org/downloads/\" target=\"_blank\">وب‌سایت رسمی Python</a> بروید و نسخه‌ی آخر Python 3 را دانلود و نصب کنید.\n",
    "</p>\n",
    "<ul>\n",
    "  <li>✔ در ویندوز، گزینه <strong>\"Add Python to PATH\"</strong> را فعال کنید.</li>\n",
    "      <img src=\"images/win_installer.png\">\n",
    "\n",
    "  <li> پس از نصب، دستور زیر را برای اطمینان اجرا کنید. برای اینکار در پنجره ترمینال ویندوز تایپ کنید:\n",
    "  </li>\n",
    "</ul>\n",
    "</div>\n"
   ]
  },
  {
   "cell_type": "raw",
   "id": "57acc0ee-f08c-4dd5-89ef-54de22b158e6",
   "metadata": {},
   "source": [
    "python --version"
   ]
  },
  {
   "cell_type": "markdown",
   "id": "4e02225a-b4f4-4ad8-980c-58ca124a8318",
   "metadata": {},
   "source": [
    "<div dir=\"rtl\" style=\"text-align: right;\">\n",
    "<h3>۲. نصب Jupyter Notebook</h3>\n",
    "<p dir=\"rtl\" style=\"text-align: right;\">\n",
    "برای نصب Jupyter از دستور زیر در ترمینال استفاده کنید:\n",
    "</p>\n",
    "</div>\n"
   ]
  },
  {
   "cell_type": "raw",
   "id": "fb956204-0e42-4aa8-aaa8-5eb569492834",
   "metadata": {},
   "source": [
    "pip install notebook"
   ]
  },
  {
   "cell_type": "raw",
   "id": "1319d75c-f61f-44a8-aa9d-4d8d1a1a9fd3",
   "metadata": {},
   "source": [
    "jupyter-lab"
   ]
  },
  {
   "cell_type": "markdown",
   "id": "1c81d08d-df39-4531-b852-9549bc66edf7",
   "metadata": {},
   "source": [
    "<div dir=\"rtl\" style=\"text-align: right;\">\n",
    "<h3>۳. نصب VS Code</h3>\n",
    "<p dir=\"rtl\" style=\"text-align: right;\">برای کدنویسی بهتر، Visual Studio Code را از <a href=\"https://code.visualstudio.com/\" target=\"_blank\">اینجا</a> نصب کنید و افزونه Python را فعال نمایید.\n",
    "نرم‌افزار Virtual Studio Code، محیطی عالی و یکپارچه را برای توسعه کدهای پایتون فراهم کرده است. کار با این نرم‌افزار ساده‌ است و همراه خود ویژگی‌های درونی زیادی را ارائه می‌دهد که باعث ارتقای کیفیت تجربه برنامه نویسی و توسعه‌دهندگی می‌شود. \n",
    "</p>\n",
    "   \n",
    "</div>\n"
   ]
  },
  {
   "cell_type": "markdown",
   "id": "d5f943db-3eda-4519-a1ed-76befa5e5803",
   "metadata": {},
   "source": [
    "<div dir=\"rtl\" style=\"text-align: right;\">\n",
    "<h3> ساختار فایل‌های پایتون</h3>\n",
    "<p dir=\"rtl\" style=\"text-align: right;\">دو فرمت اصلی:</p>\n",
    "<ul>\n",
    "  <li><code>.py</code> برای فایل‌های متنی ساده</li>\n",
    "  <li><code>.ipynb</code> برای نوت‌بوک‌های تعاملی</li>\n",
    "</ul>\n",
    "</div>\n"
   ]
  },
  {
   "cell_type": "code",
   "execution_count": 3,
   "id": "d585d4ca-22ad-4f26-9b37-fd3fe5fdefc5",
   "metadata": {},
   "outputs": [
    {
     "name": "stdin",
     "output_type": "stream",
     "text": [
      "نام شما چیست؟  Hossein\n"
     ]
    },
    {
     "name": "stdout",
     "output_type": "stream",
     "text": [
      "سلام Hossein!\n"
     ]
    }
   ],
   "source": [
    "# hello.py\n",
    "name = input(\"نام شما چیست؟ \")\n",
    "print(f\"سلام {name}!\")\n"
   ]
  },
  {
   "cell_type": "code",
   "execution_count": 10,
   "id": "11ee08cf-1d43-46fa-8a44-879a860b738c",
   "metadata": {},
   "outputs": [],
   "source": [
    "x = 10\n",
    "y = 7"
   ]
  },
  {
   "cell_type": "code",
   "execution_count": 9,
   "id": "ca1923b9-64ab-4c18-b46f-cb1bb53f16c7",
   "metadata": {},
   "outputs": [
    {
     "data": {
      "text/plain": [
       "17"
      ]
     },
     "execution_count": 9,
     "metadata": {},
     "output_type": "execute_result"
    }
   ],
   "source": [
    "x + y"
   ]
  },
  {
   "cell_type": "markdown",
   "id": "b4faecef-544c-4e8c-9aa1-faded3ab2833",
   "metadata": {},
   "source": [
    "<div dir=\"rtl\" style=\"text-align: right;\">\n",
    "<h3>🎯 جمع‌بندی</h3>\n",
    "<ul>\n",
    "  <li>✔ نصب Python و VS Code</li>\n",
    "  <li>✔ آشنایی با Jupyter و Google Colab</li>\n",
    "  <li>✔ اجرای اولین کد پایتون</li>\n",
    "</ul>\n",
    "</div>"
   ]
  }
 ],
 "metadata": {
  "kernelspec": {
   "display_name": "Python 3 (ipykernel)",
   "language": "python",
   "name": "python3"
  },
  "language_info": {
   "codemirror_mode": {
    "name": "ipython",
    "version": 3
   },
   "file_extension": ".py",
   "mimetype": "text/x-python",
   "name": "python",
   "nbconvert_exporter": "python",
   "pygments_lexer": "ipython3",
   "version": "3.12.7"
  }
 },
 "nbformat": 4,
 "nbformat_minor": 5
}
